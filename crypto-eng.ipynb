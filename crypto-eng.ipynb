{
 "metadata": {
  "name": "",
  "signature": "sha256:adc3fb5b79cf7bd11aec251ed01bc0836decb593f9fcc60c74d962cc1fc7aaeb"
 },
 "nbformat": 3,
 "nbformat_minor": 0,
 "worksheets": [
  {
   "cells": [
    {
     "cell_type": "code",
     "collapsed": false,
     "input": [
      "'''\n",
      "This cell is strictly for import statements.\n",
      "'''\n",
      "import struct\n",
      "import matplotlib\n",
      "matplotlib.use('Qt4Agg')\n",
      "import matplotlib.pyplot as plt"
     ],
     "language": "python",
     "metadata": {},
     "outputs": [],
     "prompt_number": 1
    },
    {
     "cell_type": "code",
     "collapsed": false,
     "input": [
      "'''\n",
      "This function pads the value such that the length is either 1, 2, 4 or 8 bytes.\n",
      "Padding is done in little-endian style.\n",
      "'''\n",
      "def pad_value(value):\n",
      "    if len(value) == 1 or len(value) == 2 or len(value) == 4 or len(value) == 8:\n",
      "        return value\n",
      "    if len(value) > 2 and len(value) < 4:\n",
      "        value += '\\x00'\n",
      "    elif len(value) > 4 and len(value) < 8:\n",
      "        while len(value) < 8:\n",
      "            value += '\\x00'\n",
      "    return value"
     ],
     "language": "python",
     "metadata": {},
     "outputs": [],
     "prompt_number": 2
    },
    {
     "cell_type": "code",
     "collapsed": false,
     "input": [
      "'''\n",
      "Based on the number of bytes, this function returns the format string\n",
      "Details at: https://docs.python.org/2/library/struct.html\n",
      "'''\n",
      "def get_size_fmt(size, signed = False, flt = False):\n",
      "    fmt = None\n",
      "    if size == 1:\n",
      "        fmt = 'b'\n",
      "    elif size == 2:\n",
      "        fmt = 'h'\n",
      "    elif size == 4:\n",
      "        if flt:\n",
      "            fmt = 'f'\n",
      "        else:\n",
      "            fmt = 'i'\n",
      "    elif size == 8:\n",
      "        if flt:\n",
      "            fmt = 'd'\n",
      "        else:\n",
      "            fmt = 'q'\n",
      "    if fmt is None:\n",
      "        return None\n",
      "    if flt:\n",
      "        return fmt\n",
      "    else:\n",
      "        if signed == False:\n",
      "            return str.upper(fmt)\n",
      "        else:\n",
      "            return fmt"
     ],
     "language": "python",
     "metadata": {},
     "outputs": [],
     "prompt_number": 3
    },
    {
     "cell_type": "code",
     "collapsed": false,
     "input": [
      "'''\n",
      "This function interprets Tag, Value, Length tuples based on the value of\n",
      "the Tag. Returns the interpreted value.\n",
      "'''\n",
      "def interpret_tlv(tag, length, value):\n",
      "    if tag == 0x41:\n",
      "        return ('NT Number of traces', struct.unpack('<' + get_size_fmt(4), value)[0])\n",
      "    elif tag == 0x42:\n",
      "        return ('NS Number of samples per trace', struct.unpack('<' + get_size_fmt(4), value)[0])\n",
      "    elif tag == 0x43:\n",
      "        return ('SC Sample coding', struct.unpack('<' + get_size_fmt(1), value)[0])\n",
      "    elif tag == 0x44:\n",
      "        return ('DS Length of cryptographic data included in trace', struct.unpack('<' + get_size_fmt(2), value)[0])\n",
      "    elif tag == 0x46:\n",
      "        return ('GT Global trace title', value)\n",
      "    elif tag == 0x49:\n",
      "        return ('XL Label of X-axis', value)\n",
      "    elif tag == 0x4a:\n",
      "        return ('YL Label of Y-axis', value)\n",
      "    elif tag == 0x4b:\n",
      "        return ('XS Scale value for X-axis', struct.unpack('<' + get_size_fmt(4), value)[0])\n",
      "    elif tag == 0x4c:\n",
      "        return ('YS Scale value for Y-axis', struct.unpack('<' + get_size_fmt(4), value)[0])\n",
      "    elif tag == 0x5f:\n",
      "        return ('TB Trace block marker', value)"
     ],
     "language": "python",
     "metadata": {},
     "outputs": [],
     "prompt_number": 4
    },
    {
     "cell_type": "code",
     "collapsed": false,
     "input": [
      "'''\n",
      "This function parses a complete .trs file. It requires a handle to the file\n",
      "that has binary reading options.\n",
      "'''\n",
      "def parse_file(handle):\n",
      "    tlvs = []\n",
      "    while True:\n",
      "        tag = ord(handle.read(1))\n",
      "        if tag == 0x5f:\n",
      "            handle.read(1)\n",
      "            break\n",
      "        length = ord(handle.read(1))\n",
      "        length_msb = length & 0b10000000\n",
      "        if length_msb == 0b10000000:\n",
      "            length_bytes = length & 0b01111111\n",
      "            length = handle.read(length_bytes)\n",
      "            length = pad_value(length)\n",
      "            length = struct.unpack('<' + get_size_fmt(len(length)), length)\n",
      "        value = handle.read(length)\n",
      "        tag_name, value = interpret_tlv(tag, length, value)\n",
      "        tlvs.append((tag_name, tag, length, value))\n",
      "    \n",
      "    ts, ds, ns, nt = 0, 0, -1, -1\n",
      "    for tlv in tlvs:\n",
      "        if tlv[1] == 0x45:\n",
      "            ts = tlv[3]\n",
      "        elif tlv[1] == 0x44:\n",
      "            ds = tlv[3]\n",
      "        elif tlv[1] == 0x42:\n",
      "            ns = tlv[3]\n",
      "        elif tlv[1] == 0x41:\n",
      "            nt = tlv[3]\n",
      "    \n",
      "    traces = []\n",
      "    for i in range(1):\n",
      "        handle.read(ts)\n",
      "        handle.read(ds)\n",
      "        trace = []\n",
      "        for j in range(ns):\n",
      "            flt = handle.read(4)\n",
      "            flt = struct.unpack('<' + get_size_fmt(4, flt = True), flt)[0]\n",
      "            trace.append(flt)\n",
      "        traces.append(trace)\n",
      "    return (tlvs, traces)"
     ],
     "language": "python",
     "metadata": {},
     "outputs": [],
     "prompt_number": 5
    },
    {
     "cell_type": "code",
     "collapsed": false,
     "input": [
      "handle = open('inspector.trs', 'rb')\n",
      "data = parse_file(handle)\n",
      "handle.close()"
     ],
     "language": "python",
     "metadata": {},
     "outputs": [],
     "prompt_number": 6
    },
    {
     "cell_type": "code",
     "collapsed": false,
     "input": [
      "for tlv in data[0]:\n",
      "    print hex(tlv[1]), tlv[0], tlv[3]"
     ],
     "language": "python",
     "metadata": {},
     "outputs": [
      {
       "output_type": "stream",
       "stream": "stdout",
       "text": [
        "0x41 NT Number of traces 9999\n",
        "0x42 NS Number of samples per trace 40927\n",
        "0x43 SC Sample coding 20\n",
        "0x44 DS Length of cryptographic data included in trace 16\n",
        "0x46 GT Global trace title trace\n",
        "0x49 XL Label of X-axis s\n",
        "0x4a YL Label of Y-axis V\n",
        "0x4b XS Scale value for X-axis 881211333\n",
        "0x4c YS Scale value for Y-axis 995730444\n"
       ]
      }
     ],
     "prompt_number": 7
    },
    {
     "cell_type": "code",
     "collapsed": false,
     "input": [
      "traces = data[1]\n",
      "aux = plt.plot(traces[0])\n",
      "plt.show()"
     ],
     "language": "python",
     "metadata": {},
     "outputs": [],
     "prompt_number": 16
    }
   ],
   "metadata": {}
  }
 ]
}