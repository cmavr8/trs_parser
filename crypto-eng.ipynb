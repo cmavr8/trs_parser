{
 "metadata": {
  "name": "",
  "signature": "sha256:b9885afdf430c7fdde6c75bad850a76c6c3bc973d869cbcf711a8858bc35b131"
 },
 "nbformat": 3,
 "nbformat_minor": 0,
 "worksheets": [
  {
   "cells": [
    {
     "cell_type": "code",
     "collapsed": false,
     "input": [
      "'''\n",
      "This cell is strictly for import statements.\n",
      "'''\n",
      "import struct"
     ],
     "language": "python",
     "metadata": {},
     "outputs": [],
     "prompt_number": 9
    },
    {
     "cell_type": "code",
     "collapsed": false,
     "input": [
      "'''\n",
      "This function pads the value such that the length is either 1, 2, 4 or 8 bytes.\n",
      "Padding is done in little-endian style.\n",
      "'''\n",
      "def pad_value(value):\n",
      "    if len(value) == 1 or len(value) == 2 or len(value) == 4 or len(value) == 8:\n",
      "        return value\n",
      "    if len(value) > 2 and len(value) < 4:\n",
      "        value += '\\x00'\n",
      "    elif len(value) > 4 and len(value) < 8:\n",
      "        while len(value) < 8:\n",
      "            value += '\\x00'\n",
      "    return value"
     ],
     "language": "python",
     "metadata": {},
     "outputs": [],
     "prompt_number": 17
    },
    {
     "cell_type": "code",
     "collapsed": false,
     "input": [
      "\n",
      "'''\n",
      "Based on the number of bytes, this function returns the format string\n",
      "Details at: https://docs.python.org/2/library/struct.html\n",
      "'''\n",
      "def get_size_fmt(size, signed = False):\n",
      "    fmt = None\n",
      "    if size == 1:\n",
      "        fmt = 'b'\n",
      "    elif size == 2:\n",
      "        fmt = 'h'\n",
      "    elif size == 4:\n",
      "        fmt = 'i'\n",
      "    elif size == 8:\n",
      "        fmt = 'q'\n",
      "    if fmt is None:\n",
      "        return None\n",
      "    if signed == False:\n",
      "        return str.upper(fmt)\n",
      "    else:\n",
      "        return fmt"
     ],
     "language": "python",
     "metadata": {},
     "outputs": [],
     "prompt_number": 25
    },
    {
     "cell_type": "code",
     "collapsed": false,
     "input": [
      "'''\n",
      "This function interprets Tag, Value, Length tuples based on the value of\n",
      "the Tag. Returns the interpreted value.\n",
      "'''\n",
      "def interpret_tlv(tag, length, value):\n",
      "    if tag == 0x41:\n",
      "        return ('Number of traces', struct.unpack('<' + get_size_fmt(4), value)[0])\n",
      "    elif tag == 0x42:\n",
      "        return ('Number of samples per trace', struct.unpack('<' + get_size_fmt(4), value)[0])\n",
      "    elif tag == 0x43:\n",
      "        return ('Sample coding', struct.unpack('<' + get_size_fmt(1), value)[0])\n",
      "    elif tag == 0x44:\n",
      "        return ('Length of cryptographic data included in trace', struct.unpack('<' + get_size_fmt(2), value)[0])\n",
      "    elif tag == 0x46:\n",
      "        return ('Global trace title', value)\n",
      "    elif tag == 0x49:\n",
      "        return ('Label of X-axis', value)\n",
      "    elif tag == 0x4a:\n",
      "        return ('Label of Y-axis', value)\n",
      "    elif tag == 0x4b:\n",
      "        return ('Scale value for X-axis', struct.unpack('<' + get_size_fmt(4), value)[0])\n",
      "    elif tag == 0x4c:\n",
      "        return ('Scale value for Y-axis', struct.unpack('<' + get_size_fmt(4), value)[0])"
     ],
     "language": "python",
     "metadata": {},
     "outputs": [],
     "prompt_number": 99
    },
    {
     "cell_type": "code",
     "collapsed": false,
     "input": [
      "'''\n",
      "This function parses a complete .trs file. It requires a handle to the file\n",
      "that has binary reading options.\n",
      "'''\n",
      "def parse_file(handle):\n",
      "    tlvs = []\n",
      "    while True:\n",
      "        tag = handle.read(1)\n",
      "        if tag == '' or len(tlvs) == 9:\n",
      "            break\n",
      "        tag = ord(tag)\n",
      "        length = ord(handle.read(1))\n",
      "        length_msb = length & 0b10000000\n",
      "        if length_msb == 0b10000000:\n",
      "            length_bytes = length & 0b01111111\n",
      "            length = handle.read(length_bytes)\n",
      "            length = pad_value(length)\n",
      "            length = struct.unpack('<' + get_size_fmt(len(length)), length)\n",
      "        value = handle.read(length)\n",
      "        tag_name, value = interpret_tlv(tag, length, value)\n",
      "        tlvs.append((tag_name, tag, length, value))\n",
      "    return tlvs"
     ],
     "language": "python",
     "metadata": {},
     "outputs": [],
     "prompt_number": 102
    },
    {
     "cell_type": "code",
     "collapsed": false,
     "input": [
      "handle = open('inspector.trs', 'rb')\n",
      "for tlv in parse_file(handle):\n",
      "    print tlv\n",
      "handle.close()"
     ],
     "language": "python",
     "metadata": {},
     "outputs": [
      {
       "output_type": "stream",
       "stream": "stdout",
       "text": [
        "('Number of traces', 65, 4, 9999)\n",
        "('Number of samples per trace', 66, 4, 40927)\n",
        "('Sample coding', 67, 1, 20)\n",
        "('Length of cryptographic data included in trace', 68, 2, 16)\n",
        "('Global trace title', 70, 5, 'trace')\n",
        "('Label of X-axis', 73, 1, 's')\n",
        "('Label of Y-axis', 74, 1, 'V')\n",
        "('Scale value for X-axis', 75, 4, 881211333)\n",
        "('Scale value for Y-axis', 76, 4, 995730444)\n"
       ]
      }
     ],
     "prompt_number": 103
    },
    {
     "cell_type": "code",
     "collapsed": false,
     "input": [],
     "language": "python",
     "metadata": {},
     "outputs": [],
     "prompt_number": 103
    },
    {
     "cell_type": "code",
     "collapsed": false,
     "input": [],
     "language": "python",
     "metadata": {},
     "outputs": []
    }
   ],
   "metadata": {}
  }
 ]
}